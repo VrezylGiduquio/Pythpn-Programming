{
 "cells": [
  {
   "cell_type": "code",
   "execution_count": 1,
   "id": "88f69506-d022-4798-8eb1-52d291fa3fc8",
   "metadata": {},
   "outputs": [
    {
     "name": "stdout",
     "output_type": "stream",
     "text": [
      "The length of the string is:  6\n"
     ]
    }
   ],
   "source": [
    "my_string = \"Vrezyl\"\n",
    "print (\"The length of the string is: \", len(my_string))"
   ]
  },
  {
   "cell_type": "code",
   "execution_count": 5,
   "id": "1a810fba-d5d4-4c19-a26d-af90592ff2a8",
   "metadata": {},
   "outputs": [
    {
     "name": "stdout",
     "output_type": "stream",
     "text": [
      "The concatenated string is:  VrezylGiduquio\n"
     ]
    }
   ],
   "source": [
    "string1 = \"Vrezyl\"\n",
    "string2 = \"Giduquio\"\n",
    "\n",
    "result = string1 + string2\n",
    "print(\"The concatenated string is: \", result)"
   ]
  },
  {
   "cell_type": "code",
   "execution_count": 6,
   "id": "1be53407-f787-4e8f-a28f-5651e016b254",
   "metadata": {},
   "outputs": [
    {
     "name": "stdout",
     "output_type": "stream",
     "text": [
      "The full name is:  Vrezyl Giduquio\n"
     ]
    }
   ],
   "source": [
    "first_name = \"Vrezyl\"\n",
    "last_name = \"Giduquio\"\n",
    "full_name = first_name + \" \" + last_name\n",
    "\n",
    "print (\"The full name is: \", full)"
   ]
  },
  {
   "cell_type": "code",
   "execution_count": 9,
   "id": "0a2d58d0-7d97-4ad0-bf31-aa77e197d6ae",
   "metadata": {},
   "outputs": [
    {
     "name": "stdout",
     "output_type": "stream",
     "text": [
      "fox\n"
     ]
    }
   ],
   "source": [
    "text = \"The quick brown fox jumped over the lay dog. #123456789!\"\n",
    "word = text[16:19]\n",
    "print(word)"
   ]
  },
  {
   "cell_type": "code",
   "execution_count": 10,
   "id": "691a1f53-b5f3-495a-a587-3e4d775b92d0",
   "metadata": {},
   "outputs": [
    {
     "name": "stdout",
     "output_type": "stream",
     "text": [
      "animals\n",
      "badger\n",
      "honey bee\n",
      "honeybadger\n"
     ]
    }
   ],
   "source": [
    "words = [\"Animals\", \"Badger\", \"Honey Bee\", \"HoneyBadger\"]\n",
    "for word in words: \n",
    "    print(word.lower())"
   ]
  },
  {
   "cell_type": "code",
   "execution_count": null,
   "id": "7188f7f7-f65d-459a-9d47-774c3086b5cc",
   "metadata": {},
   "outputs": [],
   "source": [
    "words = [\"Animals\", \"Badger\", \"Honey Bee\", \"HoneyBadger\"]\n",
    "\n",
    "for word in words:\n",
    "print(\"Lowercase:\", word.lower())\n",
    "print(\"Uppercase:\", word.upper())\n",
    "print()\n"
   ]
  },
  {
   "cell_type": "code",
   "execution_count": 14,
   "id": "3c217fe5-43c5-42cd-ba74-8d4d3ea01517",
   "metadata": {},
   "outputs": [
    {
     "name": "stdout",
     "output_type": "stream",
     "text": [
      "Original 1: 'Filet Mignon'\n",
      "Without whitespace 1: 'Filet Mignon'\n",
      "Original 2: 'Brisket'\n",
      "Without whitespace 2: 'Brisket'\n"
     ]
    }
   ],
   "source": [
    "string1 = \"Filet Mignon\"\n",
    "string2 = \"Brisket\"\n",
    "\n",
    "clean1 = string1.strip()\n",
    "clean2 = string2.strip()\n",
    "\n",
    "print(\"Original 1:\", repr(string1))\n",
    "print(\"Without whitespace 1:\", repr(clean1))\n",
    "print(\"Original 2:\", repr(string2))\n",
    "print(\"Without whitespace 2:\", repr(clean2))"
   ]
  },
  {
   "cell_type": "code",
   "execution_count": 15,
   "id": "4bb73747-e72f-4ea3-944d-d11592f138c3",
   "metadata": {},
   "outputs": [
    {
     "name": "stdout",
     "output_type": "stream",
     "text": [
      "Becomes startwith ('be'): False\n",
      "becomes startswith ('be'): True\n"
     ]
    }
   ],
   "source": [
    "string1 = \"Becomes\"\n",
    "string2 = \"becomes\"\n",
    "\n",
    "print(string1, \"startwith ('be'):\", string1.startswith(\"be\"))\n",
    "print(string2, \"startswith ('be'):\", string2.startswith(\"be\"))"
   ]
  },
  {
   "cell_type": "code",
   "execution_count": 17,
   "id": "510b96fc-2fa2-43ed-be88-a39d31572ad4",
   "metadata": {},
   "outputs": [
    {
     "name": "stdout",
     "output_type": "stream",
     "text": [
      "becomes startwith ('be'): True\n",
      "becomes startswith ('be'): True\n"
     ]
    }
   ],
   "source": [
    "string1 = \"Becomes\"\n",
    "string2 = \"becomes\"\n",
    "\n",
    "string1 = string1.lower()\n",
    "string2 = string2.lower()\n",
    "\n",
    "print(string1, \"startwith ('be'):\", string1.startswith(\"be\"))\n",
    "print(string2, \"startswith ('be'):\", string2.startswith(\"be\"))"
   ]
  },
  {
   "cell_type": "code",
   "execution_count": null,
   "id": "d1acf5be-4fe2-426d-af88-de2c5348619f",
   "metadata": {},
   "outputs": [],
   "source": []
  }
 ],
 "metadata": {
  "kernelspec": {
   "display_name": "anaconda-2024.02-py310",
   "language": "python",
   "name": "conda-env-anaconda-2024.02-py310-py"
  },
  "language_info": {
   "codemirror_mode": {
    "name": "ipython",
    "version": 3
   },
   "file_extension": ".py",
   "mimetype": "text/x-python",
   "name": "python",
   "nbconvert_exporter": "python",
   "pygments_lexer": "ipython3",
   "version": "3.10.14"
  }
 },
 "nbformat": 4,
 "nbformat_minor": 5
}
