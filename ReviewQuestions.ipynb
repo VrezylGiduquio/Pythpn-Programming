{
 "cells": [
  {
   "cell_type": "code",
   "execution_count": 1,
   "id": "596dea3c-c157-437e-91b6-8c32b18cf080",
   "metadata": {},
   "outputs": [
    {
     "name": "stdin",
     "output_type": "stream",
     "text": [
      "Enter something:  histort\n"
     ]
    },
    {
     "name": "stdout",
     "output_type": "stream",
     "text": [
      "You entered:  histort\n"
     ]
    }
   ],
   "source": [
    "user_input = input(\"Enter something: \")\n",
    "print(\"You entered: \", user_input)"
   ]
  },
  {
   "cell_type": "code",
   "execution_count": 5,
   "id": "438fd793-9ed4-4e47-ad20-eb4c94905a85",
   "metadata": {},
   "outputs": [
    {
     "name": "stdin",
     "output_type": "stream",
     "text": [
      "Enter something:  ABSJFAKASB\n"
     ]
    },
    {
     "name": "stdout",
     "output_type": "stream",
     "text": [
      "You entered:  absjfakasb\n"
     ]
    }
   ],
   "source": [
    "user_input = input(\"Enter something: \")\n",
    "print(\"You entered: \", user_input.lower())"
   ]
  },
  {
   "cell_type": "code",
   "execution_count": 7,
   "id": "f7cecafc-7ac9-4caa-9835-52b6bdd2ef8f",
   "metadata": {},
   "outputs": [
    {
     "name": "stdin",
     "output_type": "stream",
     "text": [
      "Enter something:  while loop\n"
     ]
    },
    {
     "name": "stdout",
     "output_type": "stream",
     "text": [
      "Numbers of characters inputted:  10\n"
     ]
    }
   ],
   "source": [
    "user_input = input(\"Enter something: \")\n",
    "print(\"Numbers of characters inputted: \", len(user_input) )"
   ]
  },
  {
   "cell_type": "code",
   "execution_count": 14,
   "id": "ba247c45-38e6-438a-91cd-57a1db46b11f",
   "metadata": {},
   "outputs": [
    {
     "ename": "SyntaxError",
     "evalue": "invalid syntax (2915989457.py, line 5)",
     "output_type": "error",
     "traceback": [
      "\u001b[1;36m  Cell \u001b[1;32mIn[14], line 5\u001b[1;36m\u001b[0m\n\u001b[1;33m    else:\u001b[0m\n\u001b[1;37m    ^\u001b[0m\n\u001b[1;31mSyntaxError\u001b[0m\u001b[1;31m:\u001b[0m invalid syntax\n"
     ]
    }
   ],
   "source": [
    "name = input(\"Tell me your name:\") \n",
    "if len(name) > 0:\n",
    "             first_letter = name[0].upper()\n",
    "print(\"The first letter in uppercase is:\", first_letter)\n",
    "else:\n",
    "print(\"You didn't enter a name.\")"
   ]
  },
  {
   "cell_type": "code",
   "execution_count": 15,
   "id": "d00ca241-f05c-45b1-b376-8f959cc333c4",
   "metadata": {},
   "outputs": [
    {
     "name": "stdout",
     "output_type": "stream",
     "text": [
      "Result of multiplication:  50\n"
     ]
    }
   ],
   "source": [
    "num_str = \"10\"\n",
    "num_int = int(num_str)\n",
    "result = num_int * 5\n",
    "print(\"Result of multiplication: \", result)"
   ]
  },
  {
   "cell_type": "code",
   "execution_count": 17,
   "id": "29b3b71d-e4df-4188-a1a5-8d4f1106a965",
   "metadata": {},
   "outputs": [
    {
     "name": "stdout",
     "output_type": "stream",
     "text": [
      "Result of multiplication:  6.28\n"
     ]
    }
   ],
   "source": [
    "num_str = \"3.14\"\n",
    "num_float = float(num_str)\n",
    "result = num_float * 2\n",
    "print(\"Result of multiplication: \", result)"
   ]
  },
  {
   "cell_type": "code",
   "execution_count": 18,
   "id": "0b72c5da-f1e5-479b-ae8e-936464fbe2df",
   "metadata": {},
   "outputs": [
    {
     "name": "stdout",
     "output_type": "stream",
     "text": [
      "Age: 21\n"
     ]
    }
   ],
   "source": [
    "text = \"Age:\"\n",
    "age = 21\n",
    "print(text + \" \" + str(age))"
   ]
  },
  {
   "cell_type": "code",
   "execution_count": 19,
   "id": "af80ca99-5617-427d-bb5c-684f2c836bff",
   "metadata": {},
   "outputs": [
    {
     "name": "stdin",
     "output_type": "stream",
     "text": [
      "Enter first number: 5\n",
      "Enter second number: 5\n"
     ]
    },
    {
     "name": "stdout",
     "output_type": "stream",
     "text": [
      "The result of multiplication is:  25\n"
     ]
    }
   ],
   "source": [
    "num1 = int(input(\"Enter first number:\"))\n",
    "num2 = int(input(\"Enter second number:\"))\n",
    "result = num1 * num2\n",
    "print(\"The result of multiplication is: \", result)"
   ]
  },
  {
   "cell_type": "code",
   "execution_count": 20,
   "id": "e237d980-5d6b-46ed-991c-10ca9307748c",
   "metadata": {},
   "outputs": [
    {
     "name": "stdout",
     "output_type": "stream",
     "text": [
      "-1\n"
     ]
    }
   ],
   "source": [
    "print(\"AAA\".find(\"a\"))"
   ]
  },
  {
   "cell_type": "code",
   "execution_count": 21,
   "id": "3d9a442d-5a6c-4e16-be5d-f67612bf7a66",
   "metadata": {},
   "outputs": [
    {
     "name": "stdout",
     "output_type": "stream",
     "text": [
      "Somebody yaid yomething to Samantha.\n"
     ]
    }
   ],
   "source": [
    "text = \"Somebody said something to Samantha.\"\n",
    "print(text.replace(\"s\", \"y\"))"
   ]
  },
  {
   "cell_type": "code",
   "execution_count": 22,
   "id": "a537e31c-00f9-41df-8b5e-6aae57cc2310",
   "metadata": {},
   "outputs": [
    {
     "name": "stdin",
     "output_type": "stream",
     "text": [
      "Enter some text:  hasafh\n",
      "Enter a letter to search for:  f\n"
     ]
    },
    {
     "name": "stdout",
     "output_type": "stream",
     "text": [
      "Result of find(): 4\n"
     ]
    }
   ],
   "source": [
    "user_text = input(\"Enter some text: \")\n",
    "letter = input(\"Enter a letter to search for: \")\n",
    "print(\"Result of find():\", user_text.find(letter))"
   ]
  },
  {
   "cell_type": "code",
   "execution_count": 24,
   "id": "ce94e536-eb59-4121-89d6-2b3f8aed1a5a",
   "metadata": {},
   "outputs": [
    {
     "name": "stdin",
     "output_type": "stream",
     "text": [
      "Enter some text:  i like you\n"
     ]
    },
    {
     "name": "stdout",
     "output_type": "stream",
     "text": [
      "1 l1k3 y0u\n"
     ]
    }
   ],
   "source": [
    "\n",
    "text = input(\"Enter some text: \")\n",
    "text = text.replace(\"b\", \"8\")\n",
    "text = text.replace(\"e\", \"3\")\n",
    "text = text.replace(\"i\", \"1\") \n",
    "text = text.replace(\"I\", \"1\")   \n",
    "text = text.replace(\"o\", \"0\")\n",
    "text = text.replace(\"s\", \"5\")\n",
    "text = text.replace(\"t\", \"7\")\n",
    "print(text)\n"
   ]
  },
  {
   "cell_type": "code",
   "execution_count": null,
   "id": "9d0a43dd-666f-4d1c-b572-47a673c16cb7",
   "metadata": {},
   "outputs": [],
   "source": []
  }
 ],
 "metadata": {
  "kernelspec": {
   "display_name": "Python 3 (ipykernel)",
   "language": "python",
   "name": "python3"
  },
  "language_info": {
   "codemirror_mode": {
    "name": "ipython",
    "version": 3
   },
   "file_extension": ".py",
   "mimetype": "text/x-python",
   "name": "python",
   "nbconvert_exporter": "python",
   "pygments_lexer": "ipython3",
   "version": "3.13.5"
  }
 },
 "nbformat": 4,
 "nbformat_minor": 5
}
