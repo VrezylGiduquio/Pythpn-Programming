{
 "cells": [
  {
   "cell_type": "markdown",
   "id": "be1508c4-3544-4bd3-859b-e9eaa2c54ce1",
   "metadata": {},
   "source": [
    "# 1ST Long Exam  |  Date: September 10, 2025"
   ]
  },
  {
   "cell_type": "markdown",
   "id": "c30f20b4-4928-4622-9a05-6e464dc2bc47",
   "metadata": {},
   "source": [
    "# Giduquio, Vrezyl S. ID: 23797988"
   ]
  },
  {
   "cell_type": "code",
   "execution_count": 1,
   "id": "f18d840b-03c2-47de-8a73-13a26672a247",
   "metadata": {},
   "outputs": [
    {
     "name": "stdin",
     "output_type": "stream",
     "text": [
      "Enter your name: vrezyl\n"
     ]
    },
    {
     "name": "stdout",
     "output_type": "stream",
     "text": [
      "Hello vrezyl\n"
     ]
    }
   ],
   "source": [
    "#1\n",
    "name = input (\"Enter your name:\")\n",
    "print (f\"Hello {name}\")\n"
   ]
  },
  {
   "cell_type": "code",
   "execution_count": 2,
   "id": "d37f5f07-6043-4a21-b7ac-7c3256be3e75",
   "metadata": {},
   "outputs": [
    {
     "ename": "SyntaxError",
     "evalue": "unterminated string literal (detected at line 4) (1704423326.py, line 4)",
     "output_type": "error",
     "traceback": [
      "\u001b[1;36m  Cell \u001b[1;32mIn[2], line 4\u001b[1;36m\u001b[0m\n\u001b[1;33m    print (\"sum = , sum)\u001b[0m\n\u001b[1;37m           ^\u001b[0m\n\u001b[1;31mSyntaxError\u001b[0m\u001b[1;31m:\u001b[0m unterminated string literal (detected at line 4)\n"
     ]
    }
   ],
   "source": [
    "#2\n",
    "num = int (\"Enter a positive Integer: \")\n",
    "sum = n * (n+1)//2\n",
    "print (\"sum = , sum)"
   ]
  },
  {
   "cell_type": "code",
   "execution_count": 3,
   "id": "489953d4-07c3-42ab-b58c-2b3157dd8d6e",
   "metadata": {},
   "outputs": [
    {
     "name": "stderr",
     "output_type": "stream",
     "text": [
      "<>:3: SyntaxWarning: \"is\" with 'str' literal. Did you mean \"==\"?\n"
     ]
    },
    {
     "name": "stdin",
     "output_type": "stream",
     "text": [
      "Enter a letter:  y\n"
     ]
    },
    {
     "name": "stderr",
     "output_type": "stream",
     "text": [
      "C:\\Users\\PI610\\AppData\\Local\\Temp\\ipykernel_3512\\3013736522.py:3: SyntaxWarning: \"is\" with 'str' literal. Did you mean \"==\"?\n",
      "  if letter is \"a,e,i,o,u\":\n"
     ]
    }
   ],
   "source": [
    "#3\n",
    "letter = input (\"Enter a letter: \").lower\n",
    "if letter is \"a,e,i,o,u\":\n",
    "    print (\"The entered letter is a vowel\")\n",
    "elif letter == \"y\":\n",
    "    print (\"Sometimes y i a vowel\")\n",
    "    print (\"Sometimes y is a consonant\")"
   ]
  },
  {
   "cell_type": "code",
   "execution_count": 8,
   "id": "b362c107-3357-46fd-8c16-4569b0673a26",
   "metadata": {},
   "outputs": [],
   "source": [
    "\n",
    "def hypotenuse(a,b):\n",
    "    return (a**2 + b**2) ** 0.5\n",
    "    a = float (input(\"Enter first side:\" ))\n",
    "    b = float (inout (\"Enter second side: \"))\n",
    "    print (\"Hypotenuse length = \", hypotenuse)"
   ]
  },
  {
   "cell_type": "code",
   "execution_count": null,
   "id": "04105128-448e-4677-b828-35dd8f07e378",
   "metadata": {},
   "outputs": [],
   "source": []
  }
 ],
 "metadata": {
  "kernelspec": {
   "display_name": "Python 3 (ipykernel)",
   "language": "python",
   "name": "python3"
  },
  "language_info": {
   "codemirror_mode": {
    "name": "ipython",
    "version": 3
   },
   "file_extension": ".py",
   "mimetype": "text/x-python",
   "name": "python",
   "nbconvert_exporter": "python",
   "pygments_lexer": "ipython3",
   "version": "3.13.5"
  }
 },
 "nbformat": 4,
 "nbformat_minor": 5
}
