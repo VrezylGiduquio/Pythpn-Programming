{
 "cells": [
  {
   "cell_type": "code",
   "execution_count": 2,
   "id": "710b859c-2e29-4dad-838c-60d1f2a9f8ad",
   "metadata": {},
   "outputs": [
    {
     "name": "stdout",
     "output_type": "stream",
     "text": [
      "Third\n"
     ]
    }
   ],
   "source": [
    "cardinal_numbers = (\"First\", \"Second\", \"Third\")\n",
    "print(cardinal_numbers[2])\n"
   ]
  },
  {
   "cell_type": "code",
   "execution_count": 3,
   "id": "c601581d-7fe3-4d2d-898d-0be6b214eed4",
   "metadata": {},
   "outputs": [
    {
     "name": "stdout",
     "output_type": "stream",
     "text": [
      "First\n",
      "Second\n",
      "Third\n"
     ]
    }
   ],
   "source": [
    "position1, position2, position3 = cardinal_numbers\n",
    "print(position1)\n",
    "print(position2)\n",
    "print(position3)\n"
   ]
  },
  {
   "cell_type": "code",
   "execution_count": 6,
   "id": "439dd27a-704e-472f-a45e-61b0a26029c2",
   "metadata": {},
   "outputs": [
    {
     "name": "stdout",
     "output_type": "stream",
     "text": [
      "False\n"
     ]
    }
   ],
   "source": [
    "my_name = tuple(\"YourName\")\n",
    "my_name = tuple(\"Vrezyl\")\n",
    "print(\"x\" in my_name)\n",
    "\n"
   ]
  },
  {
   "cell_type": "code",
   "execution_count": 7,
   "id": "a87fc866-5625-49e1-9277-39e4c2cf73a4",
   "metadata": {},
   "outputs": [
    {
     "name": "stdout",
     "output_type": "stream",
     "text": [
      "('e', 'z', 'y', 'l')\n"
     ]
    }
   ],
   "source": [
    "new_tuple = my_name[2:]\n",
    "print(new_tuple)\n"
   ]
  },
  {
   "cell_type": "code",
   "execution_count": 8,
   "id": "42ec091f-e609-4524-a872-24dac96a7752",
   "metadata": {},
   "outputs": [
    {
     "name": "stdout",
     "output_type": "stream",
     "text": [
      "['Rice', 'Beans']\n",
      "Pizza\n"
     ]
    }
   ],
   "source": [
    "food = [\"Rice\", \"Beans\"]\n",
    "food.append(\"Broccolli\")\n",
    "food.extend([\"Bread\", \"Pizza\"])\n",
    "print(food[:2])\n",
    "print(food[-1])\n"
   ]
  },
  {
   "cell_type": "code",
   "execution_count": 9,
   "id": "bddc78ff-ee64-4e39-bf7d-99acdc497bda",
   "metadata": {},
   "outputs": [
    {
     "name": "stdout",
     "output_type": "stream",
     "text": [
      "3\n",
      "[4, 5, 12]\n"
     ]
    }
   ],
   "source": [
    "breakfast = \"Eggs, fruit, orange juice\".split(\", \")\n",
    "print(len(breakfast))\n",
    "\n",
    "lengths = [len(item) for item in breakfast]\n",
    "print(lengths)\n"
   ]
  },
  {
   "cell_type": "code",
   "execution_count": 10,
   "id": "f210c64d-8541-42bb-bd1c-73aab0c1d80a",
   "metadata": {},
   "outputs": [
    {
     "name": "stdout",
     "output_type": "stream",
     "text": [
      "Row 1 sum: 3\n",
      "Row 2 sum: 7\n"
     ]
    }
   ],
   "source": [
    "data = ((1,2), (3,4))\n",
    "for i, tup in enumerate(data, start=1):\n",
    "    print(f\"Row {i} sum: {sum(tup)}\")\n",
    "\n"
   ]
  },
  {
   "cell_type": "code",
   "execution_count": 11,
   "id": "7d0f0105-88a0-47dc-b77b-9f365ceb8d87",
   "metadata": {},
   "outputs": [
    {
     "name": "stdout",
     "output_type": "stream",
     "text": [
      "[1, 4, 7, 8, 9]\n",
      "[8, 4, 1, 7, 9]\n"
     ]
    }
   ],
   "source": [
    "numbers = [8, 4, 1, 7, 9]\n",
    "\n",
    "numbers_copy = numbers[:]\n",
    "numbers.sort()\n",
    "\n",
    "print(numbers)\n",
    "print(numbers_copy)\n"
   ]
  },
  {
   "cell_type": "code",
   "execution_count": null,
   "id": "106f1184-9e11-42de-898b-b9964bbd4251",
   "metadata": {},
   "outputs": [],
   "source": []
  }
 ],
 "metadata": {
  "kernelspec": {
   "display_name": "Python [conda env:base] *",
   "language": "python",
   "name": "conda-base-py"
  },
  "language_info": {
   "codemirror_mode": {
    "name": "ipython",
    "version": 3
   },
   "file_extension": ".py",
   "mimetype": "text/x-python",
   "name": "python",
   "nbconvert_exporter": "python",
   "pygments_lexer": "ipython3",
   "version": "3.13.5"
  }
 },
 "nbformat": 4,
 "nbformat_minor": 5
}
