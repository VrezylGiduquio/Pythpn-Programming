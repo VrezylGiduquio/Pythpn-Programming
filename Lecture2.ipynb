{
 "cells": [
  {
   "cell_type": "code",
   "execution_count": 1,
   "id": "a947e5b9-6ccd-4b6d-9954-a285767bba3e",
   "metadata": {},
   "outputs": [
    {
     "name": "stdout",
     "output_type": "stream",
     "text": [
      "25000000\n",
      "25000000\n"
     ]
    }
   ],
   "source": [
    "num1 = 25_000_000\n",
    "num2 = 25000000\n",
    "print(num1)\n",
    "print(num2)"
   ]
  },
  {
   "cell_type": "code",
   "execution_count": 2,
   "id": "6ddaa33e-4f51-4315-bd2d-7f283c66303c",
   "metadata": {},
   "outputs": [
    {
     "name": "stdout",
     "output_type": "stream",
     "text": [
      "175000.0\n"
     ]
    }
   ],
   "source": [
    "num = 1.75e5\n",
    "print(num)"
   ]
  },
  {
   "cell_type": "code",
   "execution_count": 3,
   "id": "b96ec205-8806-4bfc-b398-54aff290a15a",
   "metadata": {},
   "outputs": [
    {
     "name": "stdout",
     "output_type": "stream",
     "text": [
      "308\n"
     ]
    }
   ],
   "source": [
    "import math\n",
    "\n",
    "N = 0\n",
    "while True:\n",
    "    try:\n",
    "        result = float(f\"2e{N}\")\n",
    "        if math.isinf(result):\n",
    "            break\n",
    "        N += 1\n",
    "    except OverflowError:\n",
    "        break\n",
    "\n",
    "print(N)"
   ]
  },
  {
   "cell_type": "code",
   "execution_count": 5,
   "id": "b976db61-cc67-44a0-87e9-df02bbc4770e",
   "metadata": {},
   "outputs": [
    {
     "ename": "SyntaxError",
     "evalue": "'(' was never closed (2558103851.py, line 1)",
     "output_type": "error",
     "traceback": [
      "\u001b[1;36m  Cell \u001b[1;32mIn[5], line 1\u001b[1;36m\u001b[0m\n\u001b[1;33m    num = float(input(\"Enter a number: \")\u001b[0m\n\u001b[1;37m               ^\u001b[0m\n\u001b[1;31mSyntaxError\u001b[0m\u001b[1;31m:\u001b[0m '(' was never closed\n"
     ]
    }
   ],
   "source": [
    "num = float(input(\"Enter a number: \")\n",
    "rounded_num = round(num, 2)\n",
    "print(f\"{num} rounded to 2 decimal places is {rounded_num}\")"
   ]
  },
  {
   "cell_type": "code",
   "execution_count": 7,
   "id": "5979e223-d7e9-41a5-a5d7-99f6d53a4c63",
   "metadata": {},
   "outputs": [
    {
     "name": "stdin",
     "output_type": "stream",
     "text": [
      "Enter a base:  5\n",
      "Enter an exponent:  *\n"
     ]
    },
    {
     "ename": "ValueError",
     "evalue": "could not convert string to float: '*'",
     "output_type": "error",
     "traceback": [
      "\u001b[1;31m---------------------------------------------------------------------------\u001b[0m",
      "\u001b[1;31mValueError\u001b[0m                                Traceback (most recent call last)",
      "Cell \u001b[1;32mIn[7], line 2\u001b[0m\n\u001b[0;32m      1\u001b[0m base \u001b[38;5;241m=\u001b[39m \u001b[38;5;28mfloat\u001b[39m(\u001b[38;5;28minput\u001b[39m(\u001b[38;5;124m\"\u001b[39m\u001b[38;5;124mEnter a base: \u001b[39m\u001b[38;5;124m\"\u001b[39m))\n\u001b[1;32m----> 2\u001b[0m exponent \u001b[38;5;241m=\u001b[39m \u001b[38;5;28mfloat\u001b[39m(\u001b[38;5;28minput\u001b[39m(\u001b[38;5;124m\"\u001b[39m\u001b[38;5;124mEnter an exponent: \u001b[39m\u001b[38;5;124m\"\u001b[39m))\n\u001b[0;32m      3\u001b[0m result \u001b[38;5;241m=\u001b[39m base \u001b[38;5;241m*\u001b[39m\u001b[38;5;241m*\u001b[39m exponent\n\u001b[0;32m      4\u001b[0m \u001b[38;5;28mprint\u001b[39m(\u001b[38;5;124mf\u001b[39m\u001b[38;5;124m\"\u001b[39m\u001b[38;5;132;01m{\u001b[39;00mbase\u001b[38;5;132;01m}\u001b[39;00m\u001b[38;5;124m to the power of \u001b[39m\u001b[38;5;132;01m{\u001b[39;00mexponent\u001b[38;5;132;01m}\u001b[39;00m\u001b[38;5;124m = \u001b[39m\u001b[38;5;132;01m{\u001b[39;00mresult\u001b[38;5;132;01m}\u001b[39;00m\u001b[38;5;124m\"\u001b[39m)\n",
      "\u001b[1;31mValueError\u001b[0m: could not convert string to float: '*'"
     ]
    }
   ],
   "source": [
    "base = float(input(\"Enter a base: \"))\n",
    "exponent = float(input(\"Enter an exponent: \"))\n",
    "result = base ** exponent\n",
    "print(f\"{base} to the power of {exponent} = {result}\")"
   ]
  },
  {
   "cell_type": "code",
   "execution_count": 8,
   "id": "8de29a0d-bef2-4b6e-bac6-06188a218e51",
   "metadata": {},
   "outputs": [
    {
     "name": "stdin",
     "output_type": "stream",
     "text": [
      "Enter a number:  50.23\n"
     ]
    },
    {
     "name": "stdout",
     "output_type": "stream",
     "text": [
      "50.23 rounded to 2 decimal places is 50.23\n"
     ]
    }
   ],
   "source": [
    "num = float(input(\"Enter a number: \"))\n",
    "rounded_num = round(num, 2)\n",
    "print(f\"{num} rounded to 2 decimal places is {rounded_num}\")"
   ]
  },
  {
   "cell_type": "code",
   "execution_count": 9,
   "id": "22c6ce11-5303-4ea9-8607-5e060379f666",
   "metadata": {},
   "outputs": [
    {
     "name": "stdin",
     "output_type": "stream",
     "text": [
      "Enter a number:  -5\n"
     ]
    },
    {
     "name": "stdout",
     "output_type": "stream",
     "text": [
      "The absolute value of -5.0 is 5.0\n"
     ]
    }
   ],
   "source": [
    "num = float(input(\"Enter a number: \"))\n",
    "absolute_num = abs(num)\n",
    "print(f\"The absolute value of {num} is {absolute_num}\")"
   ]
  },
  {
   "cell_type": "code",
   "execution_count": 10,
   "id": "276a91c2-47d0-46b6-b3c5-544defa25923",
   "metadata": {},
   "outputs": [
    {
     "name": "stdin",
     "output_type": "stream",
     "text": [
      "Enter a number:  25\n",
      "Enter another number:  30\n"
     ]
    },
    {
     "name": "stdout",
     "output_type": "stream",
     "text": [
      "The difference between 25.0 and 30.0 is an integer? True!\n"
     ]
    }
   ],
   "source": [
    "num1 = float(input(\"Enter a number: \"))\n",
    "num2 = float(input(\"Enter another number: \"))\n",
    "difference = num1 - num2\n",
    "is_integer = difference.is_integer()\n",
    "print(f\"The difference between {num1} and {num2} is an integer? {is_integer}!\")"
   ]
  },
  {
   "cell_type": "code",
   "execution_count": 11,
   "id": "2ec41acb-317b-4739-a31c-d8dd608dd1dc",
   "metadata": {},
   "outputs": [
    {
     "name": "stdout",
     "output_type": "stream",
     "text": [
      "1.147\n"
     ]
    }
   ],
   "source": [
    "result_1 = format(3 ** 0.125, \".3f\")\n",
    "print(result_1)"
   ]
  },
  {
   "cell_type": "code",
   "execution_count": 12,
   "id": "cda1a92c-d156-4224-aa9e-e1bd6cd1c9c8",
   "metadata": {},
   "outputs": [
    {
     "name": "stdout",
     "output_type": "stream",
     "text": [
      "$150,000.00\n"
     ]
    }
   ],
   "source": [
    "result_2 = \"${:,.2f}\".format(150000)\n",
    "print(result_2)"
   ]
  },
  {
   "cell_type": "code",
   "execution_count": 13,
   "id": "43ae3da1-bc80-4b83-ad81-5abe50ee8793",
   "metadata": {},
   "outputs": [
    {
     "name": "stdout",
     "output_type": "stream",
     "text": [
      "20%\n"
     ]
    }
   ],
   "source": [
    "result_3 = \"{:.0%}\".format(2 / 10)\n",
    "print(result_3)"
   ]
  },
  {
   "cell_type": "code",
   "execution_count": null,
   "id": "e6ebea02-3918-4467-80ef-19eceb806503",
   "metadata": {},
   "outputs": [],
   "source": []
  }
 ],
 "metadata": {
  "kernelspec": {
   "display_name": "Python 3 (ipykernel)",
   "language": "python",
   "name": "python3"
  },
  "language_info": {
   "codemirror_mode": {
    "name": "ipython",
    "version": 3
   },
   "file_extension": ".py",
   "mimetype": "text/x-python",
   "name": "python",
   "nbconvert_exporter": "python",
   "pygments_lexer": "ipython3",
   "version": "3.13.5"
  }
 },
 "nbformat": 4,
 "nbformat_minor": 5
}
