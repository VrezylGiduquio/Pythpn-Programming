{
 "cells": [
  {
   "cell_type": "code",
   "execution_count": 1,
   "id": "08cd7113-c88e-4948-9f0a-ffea5faa54d0",
   "metadata": {},
   "outputs": [
    {
     "name": "stdin",
     "output_type": "stream",
     "text": [
      "Enter a word:  hakdog\n"
     ]
    },
    {
     "name": "stdout",
     "output_type": "stream",
     "text": [
      "The length of the string is greater than 5 characters.\n"
     ]
    }
   ],
   "source": [
    "word = input(\"Enter a word: \")\n",
    "length = len(word)\n",
    "\n",
    "if length < 5:\n",
    "    print(\"The length of the string is less than 5 characters.\")\n",
    "elif length > 5:\n",
    "    print(\"The length of the string is greater than 5 characters.\")\n",
    "else:\n",
    "    print(\"The length of the string is equal to 5 characters.\")\n"
   ]
  },
  {
   "cell_type": "code",
   "execution_count": 2,
   "id": "945518c3-20e8-422e-8be7-4204f650e8b8",
   "metadata": {},
   "outputs": [
    {
     "name": "stdin",
     "output_type": "stream",
     "text": [
      "Enter something (or 'q' to quit):  mamita\n",
      "Enter something (or 'q' to quit):  dsnalnz\n",
      "Enter something (or 'q' to quit):  q\n"
     ]
    }
   ],
   "source": [
    "while True:\n",
    "    user_input = input(\"Enter something (or 'q' to quit): \")\n",
    "    if user_input.lower() == 'q':\n",
    "        break\n"
   ]
  },
  {
   "cell_type": "code",
   "execution_count": 3,
   "id": "de58bfbd-8937-4349-bc7a-79d12b10afb0",
   "metadata": {},
   "outputs": [
    {
     "name": "stdout",
     "output_type": "stream",
     "text": [
      "1\n",
      "2\n",
      "4\n",
      "5\n",
      "7\n",
      "8\n",
      "10\n",
      "11\n",
      "13\n",
      "14\n",
      "16\n",
      "17\n",
      "19\n",
      "20\n",
      "22\n",
      "23\n",
      "25\n",
      "26\n",
      "28\n",
      "29\n",
      "31\n",
      "32\n",
      "34\n",
      "35\n",
      "37\n",
      "38\n",
      "40\n",
      "41\n",
      "43\n",
      "44\n",
      "46\n",
      "47\n",
      "49\n",
      "50\n"
     ]
    }
   ],
   "source": [
    "for num in range(1, 51):\n",
    "    if num % 3 == 0:\n",
    "        continue\n",
    "    print(num)\n"
   ]
  },
  {
   "cell_type": "code",
   "execution_count": 5,
   "id": "b700cf24-9d05-4e8d-875a-39a718d18eaa",
   "metadata": {},
   "outputs": [
    {
     "name": "stdin",
     "output_type": "stream",
     "text": [
      "Enter an integer:  hy\n"
     ]
    },
    {
     "name": "stdout",
     "output_type": "stream",
     "text": [
      "Invalid input. Try again.\n"
     ]
    },
    {
     "name": "stdin",
     "output_type": "stream",
     "text": [
      "Enter an integer:  45\n"
     ]
    },
    {
     "name": "stdout",
     "output_type": "stream",
     "text": [
      "You entered: 45\n"
     ]
    }
   ],
   "source": [
    "while True:\n",
    "    try:\n",
    "        number = int(input(\"Enter an integer: \"))\n",
    "        print(f\"You entered: {number}\")\n",
    "        break\n",
    "    except ValueError:\n",
    "        print(\"Invalid input. Try again.\")\n"
   ]
  },
  {
   "cell_type": "code",
   "execution_count": 6,
   "id": "af28c44a-7614-4d8e-8b0e-73533b69a5f3",
   "metadata": {},
   "outputs": [
    {
     "name": "stdin",
     "output_type": "stream",
     "text": [
      "Enter a string:  sdfad\n",
      "Enter an index (integer):  45\n"
     ]
    },
    {
     "name": "stdout",
     "output_type": "stream",
     "text": [
      "Index out of range.\n"
     ]
    }
   ],
   "source": [
    "string_input = input(\"Enter a string: \")\n",
    "try:\n",
    "    index = int(input(\"Enter an index (integer): \"))\n",
    "    print(f\"Character at index {index}: {string_input[index]}\")\n",
    "except ValueError:\n",
    "    print(\"Invalid input. Please enter an integer for the index.\")\n",
    "except IndexError:\n",
    "    print(\"Index out of range.\")\n"
   ]
  },
  {
   "cell_type": "code",
   "execution_count": 10,
   "id": "7bb20681-a7a8-43fc-b2e5-4e9af01a4748",
   "metadata": {},
   "outputs": [],
   "source": [
    "import random\n",
    "\n",
    "def roll():\n",
    "    return random.randint(1, 6)\n"
   ]
  },
  {
   "cell_type": "code",
   "execution_count": 11,
   "id": "fea58547-2238-4885-a041-7a34c689845a",
   "metadata": {},
   "outputs": [
    {
     "name": "stdout",
     "output_type": "stream",
     "text": [
      "Average number rolled after 10000 rolls: 3.5014\n"
     ]
    }
   ],
   "source": [
    "total_rolls = 10_000\n",
    "sum_of_rolls = 0\n",
    "\n",
    "for _ in range(total_rolls):\n",
    "    sum_of_rolls += roll()\n",
    "\n",
    "average = sum_of_rolls / total_rolls\n",
    "print(f\"Average number rolled after {total_rolls} rolls: {average}\")\n"
   ]
  }
 ],
 "metadata": {
  "kernelspec": {
   "display_name": "Python 3 (ipykernel)",
   "language": "python",
   "name": "python3"
  },
  "language_info": {
   "codemirror_mode": {
    "name": "ipython",
    "version": 3
   },
   "file_extension": ".py",
   "mimetype": "text/x-python",
   "name": "python",
   "nbconvert_exporter": "python",
   "pygments_lexer": "ipython3",
   "version": "3.13.5"
  }
 },
 "nbformat": 4,
 "nbformat_minor": 5
}
