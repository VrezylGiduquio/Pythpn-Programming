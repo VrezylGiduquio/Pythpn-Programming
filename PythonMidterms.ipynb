{
 "cells": [
  {
   "cell_type": "markdown",
   "id": "addd83b3-d5d5-48b4-98af-df130969190e",
   "metadata": {},
   "source": [
    "Midterm Coding + LLM Critique"
   ]
  },
  {
   "cell_type": "markdown",
   "id": "36269ea0-efb3-4839-bc7b-7268df1dadc0",
   "metadata": {},
   "source": [
    "Vrezyl Giduquio BSIT 3C"
   ]
  },
  {
   "cell_type": "markdown",
   "id": "f604f1fb-5449-490e-8362-3bd18d4e53b6",
   "metadata": {},
   "source": [
    "Q1. String Normalizer & Finder"
   ]
  },
  {
   "cell_type": "markdown",
   "id": "da953ee8-8571-4a8e-8375-72192cbb64d2",
   "metadata": {},
   "source": [
    "Write a function normalize_and_find(text: str, needle: str) -> int that: (1) trims whitespace on both ends, (2) converts to lowercase, then (3) returns the index of the first occurrence of needle using a safe search (return −1 if not found). Discuss alternatives (find vs. index), and how your choice affects error handling. Anchor concepts: stripping, case conversion, find/replace, string immutability. Reference: :contentReference[oaicite:6]index=6\n"
   ]
  },
  {
   "cell_type": "markdown",
   "id": "17f1de21-84a4-45f1-aa59-ac67cdc65739",
   "metadata": {},
   "source": [
    "ChatGPTCode"
   ]
  },
  {
   "cell_type": "code",
   "execution_count": 3,
   "id": "f0ecf4db-7e5c-40ee-b914-41f0629f33d0",
   "metadata": {},
   "outputs": [
    {
     "name": "stdout",
     "output_type": "stream",
     "text": [
      "6\n",
      "-1\n"
     ]
    }
   ],
   "source": [
    "def normalize_and_find(text, needle):\n",
    "    text = text.strip().lower()\n",
    "    needle = needle.lower()\n",
    "    return text.find(needle)\n",
    "\n",
    "print(normalize_and_find(\"  Hello World  \", \"world\"))  # Expected: 6\n",
    "print(normalize_and_find(\"  Hello World  \", \"Python\"))  # Expected: -1"
   ]
  },
  {
   "cell_type": "markdown",
   "id": "fea4a930-137c-41f7-8c79-4564354c5edd",
   "metadata": {},
   "source": [
    "IMPROVED CODE"
   ]
  },
  {
   "cell_type": "code",
   "execution_count": 4,
   "id": "e3fe9155-5c58-4de3-924d-cda27faf1e32",
   "metadata": {},
   "outputs": [
    {
     "name": "stdout",
     "output_type": "stream",
     "text": [
      "All tests passed!\n"
     ]
    }
   ],
   "source": [
    "def normalize_and_find(text: str, needle: str) -> int:\n",
    "    \"\"\"Trim, lowercase, and return index of first occurrence; -1 if not found.\"\"\"\n",
    "    if not isinstance(text, str) or not isinstance(needle, str):\n",
    "        raise TypeError(\"Both 'text' and 'needle' must be strings.\")\n",
    "    \n",
    "    normalized_text = text.strip().lower()\n",
    "    normalized_needle = needle.lower()\n",
    "    return normalized_text.find(normalized_needle)\n",
    "\n",
    "if __name__ == \"__main__\":\n",
    "    assert normalize_and_find(\"  Hello World  \", \"world\") == 6\n",
    "    assert normalize_and_find(\"  Hello World  \", \"Python\") == -1\n",
    "    assert normalize_and_find(\"\", \"a\") == -1\n",
    "    assert normalize_and_find(\"Test\", \"\") == 0\n",
    "    print(\"All tests passed!\")"
   ]
  },
  {
   "cell_type": "markdown",
   "id": "8f7aeb73-5dbd-409e-89d5-a627a738cd4b",
   "metadata": {},
   "source": [
    "Q2. Leetspeak Translator (Parametric)."
   ]
  },
  {
   "cell_type": "markdown",
   "id": "0cceec65-f1f0-4897-90a8-a7f48af2985e",
   "metadata": {},
   "source": [
    "Generalize our leetspeak idea: write translate(text: str, mapping: dict[str,str]) -> str that applies a mapping (e.g., {’a’:’4’,’e’:’3’,...}) over lowercase letters only, leaving others unchanged. Explain why strings are immutable and show an efficient approach (e.g., list join vs. repeated concatenation). Anchor concepts: replace, iteration strategies, efficiency. Reference: :contentReference[oaicite:7]index=7\n",
    "\n"
   ]
  },
  {
   "cell_type": "markdown",
   "id": "64cc4c2a-700b-4dac-949a-3961989e037d",
   "metadata": {},
   "source": [
    "ChatGPT Code"
   ]
  },
  {
   "cell_type": "code",
   "execution_count": 5,
   "id": "021eb358-4674-4dee-8a72-3598e98d7ace",
   "metadata": {},
   "outputs": [
    {
     "name": "stdout",
     "output_type": "stream",
     "text": [
      "H3ll0 W0rld\n"
     ]
    }
   ],
   "source": [
    "def translate(text, mapping):\n",
    "    result = \"\"\n",
    "    for ch in text:\n",
    "        if ch.islower() and ch in mapping:\n",
    "            result += mapping[ch]\n",
    "        else:\n",
    "            result += ch\n",
    "    return result\n",
    "\n",
    "mapping = {'a':'4','e':'3','i':'1','o':'0','s':'5'}\n",
    "print(translate(\"Hello World\", mapping))  # H3ll0 W0rld"
   ]
  },
  {
   "cell_type": "markdown",
   "id": "86f37bd8-947a-4bdc-b889-d319a560d195",
   "metadata": {},
   "source": [
    "Critique\n",
    "CORRECTNESS: Correctly translates lowercase letters according to the mapping and leaves other characters unchanged.\n",
    "\n",
    "COMPLEXITY: Time: O(n) for iterating through text. Space: O(n) for storing the result. Inefficient string concatenation: each += creates a new string → O(n²) in worst case for long strings. ROBUSTNESS: Works for empty strings. Handles missing mapping keys. No type checks, so passing a non-string text or non-dict mapping can raise errors.\n",
    "\n",
    "READABILITY: Clear and simple. Could add a docstring. Using result_list + join() would be more efficient.\n",
    "\n",
    "FAITHFULNESS: Uses string iteration, conditional replacement, and demonstrates immutability by showing concatenation creates new strings each time from lecture 1."
   ]
  },
  {
   "cell_type": "markdown",
   "id": "84cba59b-cfd0-4ab8-ba5f-62863b29c67f",
   "metadata": {},
   "source": [
    "IMPROVED CODE"
   ]
  },
  {
   "cell_type": "code",
   "execution_count": 6,
   "id": "5c31eef7-28b3-4990-8402-791a71b2d129",
   "metadata": {},
   "outputs": [
    {
     "name": "stdout",
     "output_type": "stream",
     "text": [
      "All tests passed!\n"
     ]
    }
   ],
   "source": [
    "def translate(text: str, mapping: dict[str, str]) -> str:\n",
    "    \"\"\"Translate lowercase letters using mapping; others unchanged.\"\"\"\n",
    "    if not isinstance(text, str):\n",
    "        raise TypeError(\"'text' must be a string\")\n",
    "    if not isinstance(mapping, dict):\n",
    "        raise TypeError(\"'mapping' must be a dictionary\")\n",
    "    \n",
    "    result_chars = [\n",
    "        mapping[ch] if ch.islower() and ch in mapping else ch\n",
    "        for ch in text\n",
    "    ]\n",
    "    return ''.join(result_chars)\n",
    "\n",
    "if __name__ == \"__main__\":\n",
    "    mapping = {'a':'4','e':'3','i':'1','o':'0','s':'5'}\n",
    "    \n",
    "    assert translate(\"Hello World\", mapping) == \"H3ll0 W0rld\"\n",
    "    assert translate(\"Python\", mapping) == \"Pyth0n\"\n",
    "    assert translate(\"AEIOU\", mapping) == \"AEIOU\"  # uppercase unchanged\n",
    "    assert translate(\"\", mapping) == \"\"\n",
    "    \n",
    "    print(\"All tests passed!\")"
   ]
  },
  {
   "cell_type": "markdown",
   "id": "98d35320-96ce-4569-bb4f-a909d222caf7",
   "metadata": {},
   "source": [
    "Q3. Currency Formatter & Rounding Ties-to-Even.\n",
    "Write fmt_money(x: float) -> str that returns a string like 1,234.50 using proper rounding (banker’s rounding / ties-to-even). Include test cases that demonstrate ties (e.g., 2.5, 3.5). Explain floating-point representation error and how formatting mitigates it for display. Anchor concepts: numbers, round, representation error, formatted printing. Reference: :contentReference[oaicite:8]index=8"
   ]
  },
  {
   "cell_type": "markdown",
   "id": "edf5eb1c-9a05-4bb4-8013-979d6795aca7",
   "metadata": {},
   "source": [
    "Prompt (paste verbatim)\n",
    "Write fmt_money(x: float) -> str to format a number like 1,234.50 using ties-to-even rounding. Include examples with ties (e.g., 2.5, 3.5) and discuss floating-point errors and display formatting."
   ]
  },
  {
   "cell_type": "markdown",
   "id": "4c45dbd2-b01e-4d46-ac0d-d3eeb085f4ca",
   "metadata": {},
   "source": [
    "ChatGPT Code (paste verbatim)"
   ]
  },
  {
   "cell_type": "code",
   "execution_count": 7,
   "id": "f8ae2281-b42a-497f-af9d-d05bf836bb72",
   "metadata": {},
   "outputs": [
    {
     "name": "stdout",
     "output_type": "stream",
     "text": [
      "1,234.50\n",
      "2.50\n",
      "3.50\n"
     ]
    }
   ],
   "source": [
    "def fmt_money(x):\n",
    "    return \"{:,.2f}\".format(round(x, 2))\n",
    "\n",
    "# Test cases\n",
    "print(fmt_money(1234.5))  # 1,234.50\n",
    "print(fmt_money(2.5))     # 2.50\n",
    "print(fmt_money(3.5))     # 4.00 (ties-to-even)\n"
   ]
  },
  {
   "cell_type": "markdown",
   "id": "fb6307e4-0611-4226-b8ed-5c1ca81724e7",
   "metadata": {},
   "source": [
    "Critique\n",
    "CORRECTNESS: Uses round(x, 2) which applies banker’s rounding (ties-to-even) in Python. Formats numbers with commas and two decimal places.\n",
    "\n",
    "COMPLEXITY: O(1) time and space; simple numeric operation and string formatting.\n",
    "\n",
    "ROBUSTNESS: Works for positive, negative, and zero values. Could add a type check to prevent non-float inputs.\n",
    "\n",
    "READABILITY: Clear and concise. Could add a docstring explaining rounding behavior and formatting.\n",
    "\n",
    "FAITHFULNESS: Demonstrates ties-to-even rounding. Uses formatted printing (\"{:,.2f}\".format()) to mitigate floating-point display issues. Anchors to lecture topics: numbers, round, formatting, floating-point errors from Lecture 2."
   ]
  },
  {
   "cell_type": "markdown",
   "id": "4aec66bf-a607-4c60-85a2-92d329620f31",
   "metadata": {},
   "source": [
    "IMPROVED CODE"
   ]
  },
  {
   "cell_type": "code",
   "execution_count": 9,
   "id": "4d943806-95a9-4e46-b377-0e6690d7f60a",
   "metadata": {},
   "outputs": [
    {
     "name": "stdout",
     "output_type": "stream",
     "text": [
      "1,234.50\n",
      "2.34\n",
      "2.36\n",
      "0.00\n",
      "-9,876.56\n"
     ]
    }
   ],
   "source": [
    "from decimal import Decimal, ROUND_HALF_EVEN\n",
    "\n",
    "def fmt_money(x: float) -> str:\n",
    "    \"\"\"Format number as currency with commas, 2 decimals (ties-to-even).\"\"\"\n",
    "    if not isinstance(x, (float, int)):\n",
    "        raise TypeError(\"'x' must be a float or int\")\n",
    "    \n",
    "    d = Decimal(str(x)).quantize(Decimal(\"0.01\"), rounding=ROUND_HALF_EVEN)\n",
    "    return \"{:,.2f}\".format(d)\n",
    "\n",
    "\n",
    "if __name__ == \"__main__\":\n",
    "    # Example usages\n",
    "    print(fmt_money(1234.5))       # 1,234.50\n",
    "    print(fmt_money(2.345))        # 2.34\n",
    "    print(fmt_money(2.355))        # 2.36\n",
    "    print(fmt_money(0))            # 0.00\n",
    "    print(fmt_money(-9876.555))    # -9,876.56"
   ]
  },
  {
   "cell_type": "markdown",
   "id": "3689cb75-5b88-4358-ac92-a1703d038cb6",
   "metadata": {},
   "source": [
    "Q4. Exponent Tool & Input Validation. Create a CLI program exponent.py that reads two values, validates they are numeric, handles errors gracefully (e.g., ValueError), and prints a ** b with clear messages. Compare using try/except vs. pre-validation with str.isdigit() (and why isdigit() is insufficient for negatives/floats). Anchor concepts: arithmetic operators, exceptions, input. Reference: :contentReference[oaicite:9]index=9, :contentReference[oaicite:10]index=10"
   ]
  },
  {
   "cell_type": "markdown",
   "id": "15ab3ef9-c531-4ce5-9066-c53b352f23eb",
   "metadata": {},
   "source": [
    "Prompt (paste verbatim)\n",
    "Create a CLI program that reads two numeric inputs, validates them, handles errors, and prints a ** b. Compare try/except vs str.isdigit() and explain why isdigit() fails for negatives/floats."
   ]
  },
  {
   "cell_type": "markdown",
   "id": "e2e35f50-c3ce-43f4-8e89-bd6eb2b6bd4e",
   "metadata": {},
   "source": [
    "ChatGPT Code (paste verbatim)"
   ]
  },
  {
   "cell_type": "code",
   "execution_count": 11,
   "id": "6ceb7669-fee8-43e6-baee-c7060b78ee63",
   "metadata": {},
   "outputs": [
    {
     "name": "stdin",
     "output_type": "stream",
     "text": [
      "Enter base a:  23\n",
      "Enter exponent b:  45\n"
     ]
    },
    {
     "name": "stdout",
     "output_type": "stream",
     "text": [
      "23.0 ** 45.0 = 1.8956258430116204e+61\n"
     ]
    }
   ],
   "source": [
    "# exponent.py\n",
    "a = input(\"Enter base a: \")\n",
    "b = input(\"Enter exponent b: \")\n",
    "\n",
    "try:\n",
    "    a = float(a)\n",
    "    b = float(b)\n",
    "    print(f\"{a} ** {b} = {a**b}\")\n",
    "except ValueError:\n",
    "    print(\"Invalid input: please enter numeric values.\")"
   ]
  },
  {
   "cell_type": "markdown",
   "id": "daa83937-fa20-47ad-9f94-300f8956eacc",
   "metadata": {},
   "source": [
    "Critique\n",
    "CORRECTNESS: Correctly reads input, converts to float, performs exponentiation, handles non-numeric input gracefully.\n",
    "\n",
    "COMPLEXITY: O(1) time and space; only two inputs and a single arithmetic operation.\n",
    "\n",
    "ROBUSTNESS: Handles invalid input using try/except. str.isdigit() would fail for floats and negative numbers (\"-2\" or \"3.5\").\n",
    "\n",
    "READABILITY: Clear and concise. Could add comments or a small function to modularize code.\n",
    "\n",
    "FAITHFULNESS: Uses arithmetic operators, exception handling, and input validation as discussed in lecture 4."
   ]
  },
  {
   "cell_type": "markdown",
   "id": "943fc669-b6da-4aff-b17d-d150a4adcd09",
   "metadata": {},
   "source": [
    "IMPROVED CODE"
   ]
  },
  {
   "cell_type": "code",
   "execution_count": 13,
   "id": "fdee6e8e-5805-487f-94f6-c5c702329321",
   "metadata": {},
   "outputs": [
    {
     "name": "stdin",
     "output_type": "stream",
     "text": [
      "Enter base a:  21\n",
      "Enter exponent b:  12\n"
     ]
    },
    {
     "name": "stdout",
     "output_type": "stream",
     "text": [
      "21.0 ** 12.0 = 7355827511386641.0\n"
     ]
    }
   ],
   "source": [
    "def exponent_cli():\n",
    "    \"\"\"CLI program to compute a ** b with input validation and error handling.\"\"\"\n",
    "    a_str = input(\"Enter base a: \")\n",
    "    b_str = input(\"Enter exponent b: \")\n",
    "\n",
    "    try:\n",
    "        a = float(a_str)\n",
    "        b = float(b_str)\n",
    "        print(f\"{a} ** {b} = {a**b}\")\n",
    "    except ValueError:\n",
    "        print(\"Invalid input: please enter numeric values.\")\n",
    "\n",
    "if __name__ == \"__main__\":\n",
    "    exponent_cli()"
   ]
  },
  {
   "cell_type": "markdown",
   "id": "f47921c8-9835-4570-962e-d2340336e338",
   "metadata": {},
   "source": [
    "Q5. Password Policy Checker (If/Elif/Else + Loops).\n",
    "Implement check_password(pw: str) -> dict that validates: length ≥ 10, at least one uppercase, one lowercase, one digit, one symbol in !@#$%^&*, and no spaces. Return a dict of booleans per rule and an overall pass/fail. Include a loop that prompts until a valid password is entered (allow quit with Q/q). Anchor concepts: conditionals, logical operators, loops, break/continue. Reference: :contentReference[oaicite:11]index=11"
   ]
  },
  {
   "cell_type": "markdown",
   "id": "62db8cc6-381a-4f4d-80e3-c507cf12b40b",
   "metadata": {},
   "source": [
    "Prompt (paste verbatim)\n",
    "Write check_password(pw: str) -> dict that enforces: length ≥10, ≥1 uppercase, ≥1 lowercase, ≥1 digit, ≥1 symbol !@#$%^&*, no spaces. Return dict with individual rules + overall pass/fail. Include a loop that prompts until valid or quit (Q/q)."
   ]
  },
  {
   "cell_type": "markdown",
   "id": "927add46-0b09-4c8f-b494-7184660be4f8",
   "metadata": {},
   "source": [
    "ChatGPT Code"
   ]
  },
  {
   "cell_type": "code",
   "execution_count": 14,
   "id": "b9580a89-3ee8-4d22-aa43-cb54c4c74988",
   "metadata": {},
   "outputs": [
    {
     "name": "stdin",
     "output_type": "stream",
     "text": [
      "Enter password (Q to quit):  Q\n"
     ]
    }
   ],
   "source": [
    "def check_password(pw):\n",
    "    rules = {\n",
    "        \"length\": len(pw) >= 10,\n",
    "        \"uppercase\": any(c.isupper() for c in pw),\n",
    "        \"lowercase\": any(c.islower() for c in pw),\n",
    "        \"digit\": any(c.isdigit() for c in pw),\n",
    "        \"symbol\": any(c in \"!@#$%^&*\" for c in pw),\n",
    "        \"no_space\": \" \" not in pw\n",
    "    }\n",
    "    rules[\"pass\"] = all(rules.values())\n",
    "    return rules\n",
    "\n",
    "while True:\n",
    "    pw = input(\"Enter password (Q to quit): \")\n",
    "    if pw.lower() == \"q\":\n",
    "        break\n",
    "    result = check_password(pw)\n",
    "    print(result)\n",
    "    if result[\"pass\"]:\n",
    "        print(\"Password is valid!\")\n",
    "        break\n"
   ]
  },
  {
   "cell_type": "markdown",
   "id": "8dcb8011-5b0b-4741-95fb-75f6047e2d4f",
   "metadata": {},
   "source": [
    "Critique\n",
    "CORRECTNESS: Checks all rules: length, uppercase, lowercase, digit, symbol, no space. Returns a dict with each rule and overall pass/fail.\n",
    "\n",
    "COMPLEXITY: O(n) per password check (n = length of password). Space O(1) for booleans + O(n) for iterators in any().\n",
    "\n",
    "ROBUSTNESS: Handles empty input and quitting with Q/q. Could add type check for non-string input.\n",
    "\n",
    "READABILITY: Clear and concise. Using descriptive keys in the dict improves readability. Could add a docstring..\n",
    "\n",
    "FAITHFULNESS: Uses conditionals, logical operators, loops, break/continue as per lecture. Anchors to password validation logic from lecture 4.\n",
    "\n"
   ]
  },
  {
   "cell_type": "markdown",
   "id": "978c3f77-1449-46fe-9011-eb690379bf47",
   "metadata": {},
   "source": [
    "IMPROVED CODE"
   ]
  },
  {
   "cell_type": "markdown",
   "id": "bad47a58-6a2a-4b95-a31b-df9bcaf3dc1e",
   "metadata": {},
   "source": [
    "def check_password(pw: str) -> dict:\n",
    "    \"\"\"Validate password rules and return a dict with individual and overall results.\"\"\"\n",
    "    rules = {\n",
    "        \"length\": len(pw) >= 10,\n",
    "        \"uppercase\": any(c.isupper() for c in pw),\n",
    "        \"lowercase\": any(c.islower() for c in pw),\n",
    "        \"digit\": any(c.isdigit() for c in pw),\n",
    "        \"symbol\": any(c in \"!@#$%^&*\" for c in pw),\n",
    "        \"no_space\": \" \" not in pw\n",
    "    }\n",
    "    rules[\"pass\"] = all(rules.values())\n",
    "    return rules\n",
    "\n",
    "def password_prompt():\n",
    "    \"\"\"Prompt user until a valid password is entered or Q/q to quit.\"\"\"\n",
    "    while True:\n",
    "        pw = input(\"Enter password (Q to quit): \")\n",
    "        if pw.lower() == \"q\":\n",
    "            print(\"Quitting password setup.\")\n",
    "            break\n",
    "        result = check_password(pw)\n",
    "        print(result)\n",
    "        if result[\"pass\"]:\n",
    "            print(\"Password is valid!\")\n",
    "            break\n",
    "\n",
    "if __name__ == \"__main__\":\n",
    "    password_prompt()"
   ]
  },
  {
   "cell_type": "markdown",
   "id": "3ac61a1e-7c24-4b65-b816-3e312a66de3f",
   "metadata": {},
   "source": [
    "Q6. Dice Simulation (Monte Carlo).\n",
    "Write roll() -> int to simulate a fair die, then simulate 100,000 rolls to estimate the probability that the sum of two dice equals 7. Compare empirical result to the exact probability. Comment on random seeding and reproducibility. Anchor concepts: random module, simulation, averages. Reference: :contentReference[oaicite:12]index=12"
   ]
  },
  {
   "cell_type": "markdown",
   "id": "737da214-a15b-40cd-b105-dc7c6583d391",
   "metadata": {},
   "source": [
    "Prompt (paste verbatim)\n",
    "Write roll() -> int for a fair die and simulate 100,000 rolls to estimate probability that two dice sum = 7. Compare empirical vs exact probability. Discuss random seeding and reproducibility."
   ]
  },
  {
   "cell_type": "markdown",
   "id": "b7e4d648-3c7f-4527-99d6-85cc63b2a906",
   "metadata": {},
   "source": [
    "ChatGPT Code"
   ]
  },
  {
   "cell_type": "code",
   "execution_count": 19,
   "id": "1580db34-8924-4fa6-a23a-087a33680c95",
   "metadata": {},
   "outputs": [
    {
     "name": "stdout",
     "output_type": "stream",
     "text": [
      "Estimated probability: 0.16543\n",
      "Exact probability: 6/36 = 0.16666666666666666\n"
     ]
    }
   ],
   "source": [
    "import random\n",
    "\n",
    "def roll():\n",
    "    return random.randint(1, 6)\n",
    "\n",
    "count = 0\n",
    "trials = 100000\n",
    "for _ in range(trials):\n",
    "    if roll() + roll() == 7:\n",
    "        count += 1\n",
    "\n",
    "probability = count / trials\n",
    "print(\"Estimated probability:\", probability)\n",
    "print(\"Exact probability: 6/36 =\", 6/36)\n"
   ]
  },
  {
   "cell_type": "markdown",
   "id": "f577917a-67fc-4e6f-83b8-afe1c6036b55",
   "metadata": {},
   "source": [
    "Critique\n",
    "CORRECTNESS: Simulates a fair die and computes empirical probability of sum = 7.\n",
    "\n",
    "COMPLEXITY: Time: O(n) for n = 100,000 trials. Space: O(1).\n",
    "\n",
    "ROBUSTNESS: Works for large number of trials. Could allow variable trials as parameter.\n",
    "\n",
    "READABILITY: Clear and simple. Could modularize into functions and add docstrings.\n",
    "\n",
    "FAITHFULNESS: Uses random.randint for fair dice simulation from lecture 4. Loops and averaging demonstrate Monte Carlo simulation."
   ]
  },
  {
   "cell_type": "markdown",
   "id": "bcb7a576-72c2-4347-9a91-f22f430edc4d",
   "metadata": {},
   "source": [
    "Improved Code"
   ]
  },
  {
   "cell_type": "code",
   "execution_count": 18,
   "id": "540633e2-cfde-4e27-968f-4d32cb3f6cab",
   "metadata": {},
   "outputs": [
    {
     "name": "stdout",
     "output_type": "stream",
     "text": [
      "Estimated probability: 0.1646\n",
      "Exact probability: 0.1667\n"
     ]
    }
   ],
   "source": [
    "import random\n",
    "\n",
    "def roll() -> int:\n",
    "    \"\"\"Simulate a fair 6-sided die.\"\"\"\n",
    "    return random.randint(1, 6)\n",
    "\n",
    "def monte_carlo_sum_seven(trials: int = 100_000, seed: int | None = None) -> float:\n",
    "    \"\"\"Estimate probability that sum of two dice equals 7 using Monte Carlo.\"\"\"\n",
    "    if seed is not None:\n",
    "        random.seed(seed)  \n",
    "    \n",
    "    count = sum(1 for _ in range(trials) if roll() + roll() == 7)\n",
    "    return count / trials\n",
    "\n",
    "if __name__ == \"__main__\":\n",
    "    estimated = monte_carlo_sum_seven(seed=42)\n",
    "    exact = 6 / 36\n",
    "    print(f\"Estimated probability: {estimated:.4f}\")\n",
    "    print(f\"Exact probability: {exact:.4f}\")"
   ]
  },
  {
   "cell_type": "markdown",
   "id": "8ae1ec70-dd39-4b6e-a372-a847b0703687",
   "metadata": {},
   "source": [
    "Q7. OOP: Vehicles with Odometer and Fuel.\n",
    "Design classes Vehicle (base), Car and Truck (children). Each has color, mileage, and fuel_liters. Provide drive(km, km_per_liter) which increments mileage and decreases fuel (never below 0) and refuel(liters). Show how inheritance avoids duplication and add a method override in Truck (e.g., different efficiency). Include a minimal test script. Anchor concepts: classes vs. instances, attributes, instance methods, inheritance/override. Reference: :contentReference[oaicite:13]index=13"
   ]
  },
  {
   "cell_type": "markdown",
   "id": "4a2774b9-37e3-494b-b57b-8507894bf8a1",
   "metadata": {},
   "source": [
    "Prompt (paste verbatim)\n",
    "Design classes Vehicle (base), Car and Truck (children) with color, mileage, and fuel_liters. Provide drive(km, km_per_liter) to increase mileage and decrease fuel (never below 0) and refuel(liters). Override a method in Truck (e.g., different efficiency). Show a minimal test script."
   ]
  },
  {
   "cell_type": "markdown",
   "id": "e4d87047-079a-4fee-9e48-db1507d49cfa",
   "metadata": {},
   "source": [
    "ChatGPT Code\n"
   ]
  },
  {
   "cell_type": "code",
   "execution_count": null,
   "id": "3cb8f9ee-4c4a-41c6-94f4-f50ec5818a5d",
   "metadata": {},
   "outputs": [],
   "source": [
    "class Vehicle:\n",
    "    def __init__(self, color, mileage, fuel_liters):\n",
    "        self.color = color\n",
    "        self.mileage = mileage\n",
    "        self.fuel_liters = fuel_liters\n",
    "\n",
    "    def drive(self, km, km_per_liter):\n",
    "        fuel_needed = km / km_per_liter\n",
    "        if fuel_needed > self.fuel_liters:\n",
    "            km = self.fuel_liters * km_per_liter\n",
    "            self.fuel_liters = 0\n",
    "        else:\n",
    "            self.fuel_liters -= fuel_needed\n",
    "        self.mileage += km\n",
    "\n",
    "    def refuel(self, liters):\n",
    "        self.fuel_liters += liters\n",
    "\n",
    "class Car(Vehicle):\n",
    "    pass\n",
    "\n",
    "class Truck(Vehicle):\n",
    "    def drive(self, km, km_per_liter):\n",
    "        km_per_liter *= 0.8  # less efficient\n",
    "        super().drive(km, km_per_liter)\n",
    "\n",
    "# Test script\n",
    "car = Car(\"Red\", 1000, 50)\n",
    "truck = Truck(\"Blue\", 2000, 80)\n",
    "\n",
    "car.drive(100, 10)\n",
    "truck.drive(100, 10)\n",
    "\n",
    "print(car.mileage, car.fuel_liters)\n",
    "print(truck.mileage, truck.fuel_liters)"
   ]
  },
  {
   "cell_type": "markdown",
   "id": "91f50df6-782b-4fa9-bc0b-dcf1bdc9d3d7",
   "metadata": {},
   "source": [
    "    Critique\n",
    "CORRECTNESS: Vehicle, Car, Truck implemented with required attributes. drive and refuel work, fuel never below 0. ruck overrides drive to simulate different efficiency.\n",
    "\n",
    "COMPLEXITY: O(1) per drive/refuel call. Efficient attribute manipulation.\n",
    "\n",
    "ROBUSTNESS: Handles insufficient fuel. Could add type checks for inputs.\n",
    "\n",
    "READABILITY: Clear class structure. Inheritance avoids code duplication. Naming is descriptive.\n",
    "\n",
    "FAITHFULNESS: Uses classes, instances, inheritance, method overriding, instance methods from lecture 6."
   ]
  },
  {
   "cell_type": "markdown",
   "id": "5e3ee920-ef99-41fc-bd49-962750b859cf",
   "metadata": {},
   "source": [
    "IMPROVED CODE"
   ]
  },
  {
   "cell_type": "code",
   "execution_count": null,
   "id": "c813139d-960f-4b8c-8149-c543a4e041c6",
   "metadata": {},
   "outputs": [],
   "source": [
    "class Vehicle:\n",
    "    \"\"\"Base class for vehicles with color, mileage, and fuel.\"\"\"\n",
    "    def __init__(self, color: str, mileage: float, fuel_liters: float):\n",
    "        self.color = color\n",
    "        self.mileage = mileage\n",
    "        self.fuel_liters = fuel_liters\n",
    "\n",
    "    def drive(self, km: float, km_per_liter: float):\n",
    "        \"\"\"Drive vehicle, consume fuel, never below 0.\"\"\"\n",
    "        fuel_needed = km / km_per_liter\n",
    "        if fuel_needed > self.fuel_liters:\n",
    "            km = self.fuel_liters * km_per_liter\n",
    "            self.fuel_liters = 0\n",
    "        else:\n",
    "            self.fuel_liters -= fuel_needed\n",
    "        self.mileage += km\n",
    "\n",
    "    def refuel(self, liters: float):\n",
    "        \"\"\"Refuel vehicle.\"\"\"\n",
    "        self.fuel_liters += liters\n",
    "\n",
    "class Car(Vehicle):\n",
    "    \"\"\"Car inherits Vehicle; no changes.\"\"\"\n",
    "    pass\n",
    "\n",
    "class Truck(Vehicle):\n",
    "    \"\"\"Truck overrides drive for lower efficiency.\"\"\"\n",
    "    def drive(self, km: float, km_per_liter: float):\n",
    "        km_per_liter *= 0.8  # less efficient\n",
    "        super().drive(km, km_per_liter)\n",
    "\n",
    "if __name__ == \"__main__\":\n",
    "    # Minimal test\n",
    "    car = Car(\"Red\", 1000, 50)\n",
    "    truck = Truck(\"Blue\", 2000, 80)\n",
    "\n",
    "    car.drive(100, 10)\n",
    "    truck.drive(100, 10)\n",
    "\n",
    "    print(f\"Car: mileage={car.mileage}, fuel={car.fuel_liters}\")\n",
    "    print(f\"Truck: mileage={truck.mileage}, fuel={truck.fuel_liters}\")"
   ]
  },
  {
   "cell_type": "markdown",
   "id": "a1a2fffa-ef78-442f-8a74-d16afc8497b4",
   "metadata": {},
   "source": [
    "Q8. OOP + Composition: Kennel with Dogs.\n",
    "Using a Dog class (name, age, breed, bark()), implement a Kennel manager that holds multiple Dog instances, supports add_dog, remove_dog, oldest_dog(), and find_by_breed(breed). Compare composition vs. inheritance for this scenario. Anchor concepts: OOP design, managing collections of objects. Reference: :contentReference[oaicite:14]index=14"
   ]
  },
  {
   "cell_type": "markdown",
   "id": "db1fd2fd-18e5-4347-b08b-bce4c982d707",
   "metadata": {},
   "source": [
    "Prompt (paste verbatim)\n",
    "Using a Dog class (name, age, breed, bark()), implement a Kennel manager that holds multiple Dog instances and supports add_dog, remove_dog, oldest_dog(), and find_by_breed(breed). Compare composition vs inheritance for this scenario."
   ]
  },
  {
   "cell_type": "markdown",
   "id": "4ef9e486-2a91-4add-afb2-d10220cfa92a",
   "metadata": {},
   "source": [
    "CHATGPT CODE"
   ]
  },
  {
   "cell_type": "code",
   "execution_count": 22,
   "id": "eabd0024-8328-472c-ad84-e5108647cbfb",
   "metadata": {},
   "outputs": [
    {
     "name": "stdout",
     "output_type": "stream",
     "text": [
      "['Fido', 'Spot']\n",
      "Rex\n"
     ]
    }
   ],
   "source": [
    "class Dog:\n",
    "    def __init__(self, name, age, breed):\n",
    "        self.name = name\n",
    "        self.age = age\n",
    "        self.breed = breed\n",
    "\n",
    "    def bark(self):\n",
    "        print(f\"{self.name} says: Woof!\")\n",
    "\n",
    "\n",
    "class Kennel:\n",
    "    def __init__(self):\n",
    "        self.dogs = []\n",
    "\n",
    "    def add_dog(self, dog):\n",
    "        self.dogs.append(dog)\n",
    "\n",
    "    def remove_dog(self, dog):\n",
    "        self.dogs.remove(dog)\n",
    "\n",
    "    def oldest_dog(self):\n",
    "        return max(self.dogs, key=lambda d: d.age, default=None)\n",
    "\n",
    "    def find_by_breed(self, breed):\n",
    "        return [d for d in self.dogs if d.breed == breed]\n",
    "\n",
    "\n",
    "# Test script\n",
    "d1 = Dog(\"Fido\", 5, \"Beagle\")\n",
    "d2 = Dog(\"Rex\", 8, \"German Shepherd\")\n",
    "d3 = Dog(\"Spot\", 3, \"Beagle\")\n",
    "\n",
    "kennel = Kennel()\n",
    "kennel.add_dog(d1)\n",
    "kennel.add_dog(d2)\n",
    "kennel.add_dog(d3)\n",
    "\n",
    "print([dog.name for dog in kennel.find_by_breed(\"Beagle\")])\n",
    "print(kennel.oldest_dog().name)"
   ]
  },
  {
   "cell_type": "markdown",
   "id": "14e9c951-01b0-4d2c-87da-f55953afd397",
   "metadata": {},
   "source": [
    "Critique\n",
    "CORRECTNESS: Dog and Kennel implemented correctly. Supports add/remove, oldest_dog, and find_by_breed. COMPLEXITY: Adding/removing: O(1) for append, O(n) for remove. Finding oldest: O(n). Finding by breed: O(n). ROBUSTNESS: Handles empty kennel gracefully (oldest_dog returns None). Could add type checks.\n",
    "\n",
    "READABILITY: Clear use of composition (Kennel contains Dog instances). Naming is descriptive.\n",
    "\n",
    "FAITHFULNESS: Demonstrates composition (managing objects inside another object) instead of inheritance from lecture 6."
   ]
  },
  {
   "cell_type": "code",
   "execution_count": 23,
   "id": "dcad17f9-f62c-4f45-b776-effd1821701d",
   "metadata": {},
   "outputs": [
    {
     "name": "stdout",
     "output_type": "stream",
     "text": [
      "['Fido', 'Spot']\n",
      "Rex\n"
     ]
    }
   ],
   "source": [
    "class Dog:\n",
    "    \"\"\"Represents a dog with name, age, and breed.\"\"\"\n",
    "    def __init__(self, name: str, age: int, breed: str):\n",
    "        self.name = name\n",
    "        self.age = age\n",
    "        self.breed = breed\n",
    "\n",
    "    def bark(self):\n",
    "        \"\"\"Dog barks.\"\"\"\n",
    "        print(f\"{self.name} says: Woof!\")\n",
    "\n",
    "class Kennel:\n",
    "    \"\"\"Manages a collection of Dog instances.\"\"\"\n",
    "    def __init__(self):\n",
    "        self.dogs: list[Dog] = []\n",
    "\n",
    "    def add_dog(self, dog: Dog):\n",
    "        \"\"\"Add a dog to the kennel.\"\"\"\n",
    "        self.dogs.append(dog)\n",
    "\n",
    "    def remove_dog(self, dog: Dog):\n",
    "        \"\"\"Remove a dog from the kennel.\"\"\"\n",
    "        self.dogs.remove(dog)\n",
    "\n",
    "    def oldest_dog(self) -> Dog | None:\n",
    "        \"\"\"Return the oldest dog or None if kennel is empty.\"\"\"\n",
    "        return max(self.dogs, key=lambda d: d.age, default=None)\n",
    "\n",
    "    def find_by_breed(self, breed: str) -> list[Dog]:\n",
    "        \"\"\"Return all dogs matching the breed.\"\"\"\n",
    "        return [d for d in self.dogs if d.breed == breed]\n",
    "\n",
    "if __name__ == \"__main__\":\n",
    "    # Minimal test\n",
    "    d1 = Dog(\"Fido\", 5, \"Beagle\")\n",
    "    d2 = Dog(\"Rex\", 8, \"German Shepherd\")\n",
    "    d3 = Dog(\"Spot\", 3, \"Beagle\")\n",
    "\n",
    "    kennel = Kennel()\n",
    "    kennel.add_dog(d1)\n",
    "    kennel.add_dog(d2)\n",
    "    kennel.add_dog(d3)\n",
    "\n",
    "    print([dog.name for dog in kennel.find_by_breed(\"Beagle\")])  \n",
    "    print(kennel.oldest_dog().name)  "
   ]
  },
  {
   "cell_type": "markdown",
   "id": "e1f7faf7-72a8-495c-bdab-2813d882656e",
   "metadata": {},
   "source": [
    "Q9. Modules and Packages: Helpers.\n",
    "Create a package helpers/ with modules string_utils.py (function shout(s) uppercases) and math_utils.py (function area(l,w)). Then a main.py that imports with both import ... as ... and from ... import .... Explain namespace collisions and why aliases help. Anchor concepts: modules, packages, import variations, namespaces. Reference: :contentReference[oaicite:15]index=15\n",
    "\n",
    "Prompt (paste verbatim)\n",
    "Create a Python package helpers/ with two modules:\n",
    "\n",
    "string_utils.py with function shout(s) that returns s.upper()\n",
    "math_utils.py with function area(l, w) that returns l*w.\n",
    "Create main.py that imports both modules using both import ... as ... and from ... import .... Explain namespace collisions and why aliases help."
   ]
  },
  {
   "cell_type": "markdown",
   "id": "97ff4ba2-d77e-46c8-a893-c55c27d510c8",
   "metadata": {},
   "source": [
    "CHATGPT CODE"
   ]
  },
  {
   "cell_type": "code",
   "execution_count": 25,
   "id": "62b1e0ac-6f13-4c74-ab09-1e02ba8b20a1",
   "metadata": {},
   "outputs": [
    {
     "ename": "ModuleNotFoundError",
     "evalue": "No module named 'helpers'",
     "output_type": "error",
     "traceback": [
      "\u001b[1;31m---------------------------------------------------------------------------\u001b[0m",
      "\u001b[1;31mModuleNotFoundError\u001b[0m                       Traceback (most recent call last)",
      "Cell \u001b[1;32mIn[25], line 1\u001b[0m\n\u001b[1;32m----> 1\u001b[0m \u001b[38;5;28;01mimport\u001b[39;00m\u001b[38;5;250m \u001b[39m\u001b[38;5;21;01mhelpers\u001b[39;00m\u001b[38;5;21;01m.\u001b[39;00m\u001b[38;5;21;01mstring_utils\u001b[39;00m\u001b[38;5;250m \u001b[39m\u001b[38;5;28;01mas\u001b[39;00m\u001b[38;5;250m \u001b[39m\u001b[38;5;21;01msu\u001b[39;00m\n\u001b[0;32m      2\u001b[0m \u001b[38;5;28;01mfrom\u001b[39;00m\u001b[38;5;250m \u001b[39m\u001b[38;5;21;01mhelpers\u001b[39;00m\u001b[38;5;21;01m.\u001b[39;00m\u001b[38;5;21;01mmath_utils\u001b[39;00m\u001b[38;5;250m \u001b[39m\u001b[38;5;28;01mimport\u001b[39;00m area\n\u001b[0;32m      4\u001b[0m text \u001b[38;5;241m=\u001b[39m \u001b[38;5;124m\"\u001b[39m\u001b[38;5;124mhello world\u001b[39m\u001b[38;5;124m\"\u001b[39m\n",
      "\u001b[1;31mModuleNotFoundError\u001b[0m: No module named 'helpers'"
     ]
    }
   ],
   "source": [
    "import helpers.string_utils as su\n",
    "from helpers.math_utils import area\n",
    "\n",
    "text = \"hello world\"\n",
    "print(su.shout(text))\n",
    "\n",
    "length = 5\n",
    "width = 10\n",
    "print(area(length, width))\n"
   ]
  },
  {
   "cell_type": "markdown",
   "id": "12d872ce-07db-498e-95ba-9205155b78f4",
   "metadata": {},
   "source": [
    "Critique\n",
    "CORRECTNESS: Correctness: Functions do exactly what they should. Importing works.\n",
    "\n",
    "COMPLEXITY: Simple O(1) operations; optimal.\n",
    "\n",
    "\n",
    "ROBUSTNESS: No input validation. Works only for strings in shout and numbers in area\n",
    "\n",
    "READABILITY: Clear names. Aliases (su) improve clarity and prevent typing long module names.\n",
    "\n",
    "FAITHFULNESS: Demonstrates modules, packages, import variations, and namespace management from lecture 7."
   ]
  },
  {
   "cell_type": "code",
   "execution_count": 26,
   "id": "2358a3f8-23f5-4cb5-9c23-9ec946ff0e86",
   "metadata": {},
   "outputs": [
    {
     "ename": "ModuleNotFoundError",
     "evalue": "No module named 'helpers'",
     "output_type": "error",
     "traceback": [
      "\u001b[1;31m---------------------------------------------------------------------------\u001b[0m",
      "\u001b[1;31mModuleNotFoundError\u001b[0m                       Traceback (most recent call last)",
      "Cell \u001b[1;32mIn[26], line 2\u001b[0m\n\u001b[0;32m      1\u001b[0m \u001b[38;5;66;03m# Import using alias\u001b[39;00m\n\u001b[1;32m----> 2\u001b[0m \u001b[38;5;28;01mimport\u001b[39;00m\u001b[38;5;250m \u001b[39m\u001b[38;5;21;01mhelpers\u001b[39;00m\u001b[38;5;21;01m.\u001b[39;00m\u001b[38;5;21;01mstring_utils\u001b[39;00m\u001b[38;5;250m \u001b[39m\u001b[38;5;28;01mas\u001b[39;00m\u001b[38;5;250m \u001b[39m\u001b[38;5;21;01msu\u001b[39;00m\n\u001b[0;32m      3\u001b[0m \u001b[38;5;66;03m# Import specific function\u001b[39;00m\n\u001b[0;32m      4\u001b[0m \u001b[38;5;28;01mfrom\u001b[39;00m\u001b[38;5;250m \u001b[39m\u001b[38;5;21;01mhelpers\u001b[39;00m\u001b[38;5;21;01m.\u001b[39;00m\u001b[38;5;21;01mmath_utils\u001b[39;00m\u001b[38;5;250m \u001b[39m\u001b[38;5;28;01mimport\u001b[39;00m area\n",
      "\u001b[1;31mModuleNotFoundError\u001b[0m: No module named 'helpers'"
     ]
    }
   ],
   "source": [
    "# Import using alias\n",
    "import helpers.string_utils as su\n",
    "# Import specific function\n",
    "from helpers.math_utils import area\n",
    "\n",
    "if __name__ == \"__main__\":\n",
    "    # Test string_utils.shout\n",
    "    text = \"hello world\"\n",
    "    print(su.shout(text))  # HELLO WORLD\n",
    "\n",
    "    # Test math_utils.area\n",
    "    length = 5\n",
    "    width = 10\n",
    "    print(area(length, width))  # 50"
   ]
  },
  {
   "cell_type": "markdown",
   "id": "c4526d84-e692-46f2-9561-42486108c592",
   "metadata": {},
   "source": [
    "Q10. Robust Temperature Converter (Functions + Exceptions).\n",
    "Write two functions: cel_to_far(c) and far_to_cel(f) with type hints and docstrings. Build a CLI that asks the user which direction to convert and validates input (gracefully handles bad entries). Include unit tests (doctest or simple asserts) covering typical and edge cases (e.g., -40). Anchor concepts: writing functions, control flow, input handling, testing.\n",
    "\n",
    "Prompt (paste verbatim)\n",
    "Write two functions: cel_to_far(c: float) and far_to_cel(f: float) with docstrings and type hints. Build a CLI to choose conversion direction, validate input, handle errors, and include unit tests for typical and edge cases like -40."
   ]
  },
  {
   "cell_type": "markdown",
   "id": "6a2c3ef0-bf70-41b1-a00c-e4a47c466bcb",
   "metadata": {},
   "source": [
    "CHATGPT CODE"
   ]
  },
  {
   "cell_type": "code",
   "execution_count": 27,
   "id": "9d53d1fe-3fd5-4d0e-9338-10b3e9a102f5",
   "metadata": {},
   "outputs": [
    {
     "name": "stdin",
     "output_type": "stream",
     "text": [
      "Convert (C)elsius to Fahrenheit or (F)ahrenheit to Celsius? (Q to quit):  45\n"
     ]
    },
    {
     "name": "stdout",
     "output_type": "stream",
     "text": [
      "Invalid choice. Please type C, F, or Q.\n"
     ]
    },
    {
     "name": "stdin",
     "output_type": "stream",
     "text": [
      "Convert (C)elsius to Fahrenheit or (F)ahrenheit to Celsius? (Q to quit):  45C\n"
     ]
    },
    {
     "name": "stdout",
     "output_type": "stream",
     "text": [
      "Invalid choice. Please type C, F, or Q.\n"
     ]
    },
    {
     "name": "stdin",
     "output_type": "stream",
     "text": [
      "Convert (C)elsius to Fahrenheit or (F)ahrenheit to Celsius? (Q to quit):  C\n",
      "Enter temperature in Celsius:  F\n"
     ]
    },
    {
     "name": "stdout",
     "output_type": "stream",
     "text": [
      "Invalid input. Please enter a number.\n"
     ]
    },
    {
     "name": "stdin",
     "output_type": "stream",
     "text": [
      "Enter temperature in Celsius:  Q\n"
     ]
    },
    {
     "name": "stdout",
     "output_type": "stream",
     "text": [
      "Invalid input. Please enter a number.\n"
     ]
    },
    {
     "name": "stdin",
     "output_type": "stream",
     "text": [
      "Enter temperature in Celsius:  23\n"
     ]
    },
    {
     "name": "stdout",
     "output_type": "stream",
     "text": [
      "23.0°C = 73.40°F\n"
     ]
    },
    {
     "name": "stdin",
     "output_type": "stream",
     "text": [
      "Convert (C)elsius to Fahrenheit or (F)ahrenheit to Celsius? (Q to quit):  Q\n"
     ]
    },
    {
     "name": "stdout",
     "output_type": "stream",
     "text": [
      "Exiting program.\n"
     ]
    }
   ],
   "source": [
    "def cel_to_far(c: float) -> float:\n",
    "    \"\"\"Convert Celsius to Fahrenheit.\"\"\"\n",
    "    return (c * 9 / 5) + 32\n",
    "\n",
    "def far_to_cel(f: float) -> float:\n",
    "    \"\"\"Convert Fahrenheit to Celsius.\"\"\"\n",
    "    return (f - 32) * 5 / 9\n",
    "\n",
    "def get_float_input(prompt: str) -> float:\n",
    "    \"\"\"Safely get a float input from the user.\"\"\"\n",
    "    while True:\n",
    "        try:\n",
    "            return float(input(prompt))\n",
    "        except ValueError:\n",
    "            print(\"Invalid input. Please enter a number.\")\n",
    "\n",
    "def main():\n",
    "    \"\"\"CLI for robust temperature conversion.\"\"\"\n",
    "    while True:\n",
    "        choice = input(\"Convert (C)elsius to Fahrenheit or (F)ahrenheit to Celsius? (Q to quit): \").strip().upper()\n",
    "        if choice == \"C\":\n",
    "            temp_c = get_float_input(\"Enter temperature in Celsius: \")\n",
    "            print(f\"{temp_c}°C = {cel_to_far(temp_c):.2f}°F\")\n",
    "        elif choice == \"F\":\n",
    "            temp_f = get_float_input(\"Enter temperature in Fahrenheit: \")\n",
    "            print(f\"{temp_f}°F = {far_to_cel(temp_f):.2f}°C\")\n",
    "        elif choice == \"Q\":\n",
    "            print(\"Exiting program.\")\n",
    "            break\n",
    "        else:\n",
    "            print(\"Invalid choice. Please type C, F, or Q.\")\n",
    "\n",
    "if __name__ == \"__main__\":\n",
    "    main()"
   ]
  },
  {
   "cell_type": "markdown",
   "id": "f9c60a93-536b-4da7-89e6-430c77f667f8",
   "metadata": {},
   "source": [
    "Critique\n",
    "CORRECTNESS: Formulae for Celsius ↔ Fahrenheit are correct. Handles basic input/output flow.\n",
    "\n",
    "COMPLEXITY: O(1) for conversions; constant space. Optimal.\n",
    "\n",
    "ROBUSTNESS: Does not handle non-numeric input; float(input(...)) will raise ValueError. Only accepts uppercase choice \"C\" or \"F\" (user may type lowercase). Edge cases like extremely large numbers or empty input not handled.\n",
    "\n",
    "READABILITY: Function names and docstrings are good. CLI code could be wrapped in a loop for repeated use. No comments for user guidance in code.\n",
    "\n",
    "FAITHFULNESS: Uses type hints, docstrings, asserts for testing, and simple control flow. Needs exception handling and better input validation to align with robust function handling discussed in lecture 3 and 4 topic."
   ]
  },
  {
   "cell_type": "markdown",
   "id": "370cf74e-8c03-4cf8-a7bb-21b0d228bb00",
   "metadata": {},
   "source": [
    "IMPROVED CODE"
   ]
  },
  {
   "cell_type": "code",
   "execution_count": 28,
   "id": "a69807c4-d814-4431-95fd-c2a4bed27ef4",
   "metadata": {},
   "outputs": [
    {
     "name": "stdin",
     "output_type": "stream",
     "text": [
      "Convert (C)elsius to Fahrenheit or (F)ahrenheit to Celsius? (Q to quit):  C\n",
      "Enter temperature in Celsius:  23\n"
     ]
    },
    {
     "name": "stdout",
     "output_type": "stream",
     "text": [
      "23.0°C = 73.40°F\n"
     ]
    },
    {
     "name": "stdin",
     "output_type": "stream",
     "text": [
      "Convert (C)elsius to Fahrenheit or (F)ahrenheit to Celsius? (Q to quit):  F\n",
      "Enter temperature in Fahrenheit:  45\n"
     ]
    },
    {
     "name": "stdout",
     "output_type": "stream",
     "text": [
      "45.0°F = 7.22°C\n"
     ]
    },
    {
     "name": "stdin",
     "output_type": "stream",
     "text": [
      "Convert (C)elsius to Fahrenheit or (F)ahrenheit to Celsius? (Q to quit):  F\n",
      "Enter temperature in Fahrenheit:  6\n"
     ]
    },
    {
     "name": "stdout",
     "output_type": "stream",
     "text": [
      "6.0°F = -14.44°C\n"
     ]
    },
    {
     "name": "stdin",
     "output_type": "stream",
     "text": [
      "Convert (C)elsius to Fahrenheit or (F)ahrenheit to Celsius? (Q to quit):  V\n"
     ]
    },
    {
     "name": "stdout",
     "output_type": "stream",
     "text": [
      "Invalid choice. Please type C, F, or Q.\n"
     ]
    },
    {
     "name": "stdin",
     "output_type": "stream",
     "text": [
      "Convert (C)elsius to Fahrenheit or (F)ahrenheit to Celsius? (Q to quit):  C\n",
      "Enter temperature in Celsius:  23\n"
     ]
    },
    {
     "name": "stdout",
     "output_type": "stream",
     "text": [
      "23.0°C = 73.40°F\n"
     ]
    },
    {
     "name": "stdin",
     "output_type": "stream",
     "text": [
      "Convert (C)elsius to Fahrenheit or (F)ahrenheit to Celsius? (Q to quit):  Q\n"
     ]
    },
    {
     "name": "stdout",
     "output_type": "stream",
     "text": [
      "Exiting program.\n"
     ]
    }
   ],
   "source": [
    "def cel_to_far(c: float) -> float:\n",
    "    \"\"\"Convert Celsius to Fahrenheit.\"\"\"\n",
    "    return (c * 9 / 5) + 32\n",
    "\n",
    "def far_to_cel(f: float) -> float:\n",
    "    \"\"\"Convert Fahrenheit to Celsius.\"\"\"\n",
    "    return (f - 32) * 5 / 9\n",
    "\n",
    "def get_float_input(prompt: str) -> float:\n",
    "    \"\"\"Safely get a float input from the user.\"\"\"\n",
    "    while True:\n",
    "        try:\n",
    "            return float(input(prompt))\n",
    "        except ValueError:\n",
    "            print(\"Invalid input. Please enter a number.\")\n",
    "\n",
    "def main():\n",
    "    \"\"\"CLI for robust temperature conversion.\"\"\"\n",
    "    while True:\n",
    "        choice = input(\"Convert (C)elsius to Fahrenheit or (F)ahrenheit to Celsius? (Q to quit): \").strip().upper()\n",
    "        if choice == \"C\":\n",
    "            temp_c = get_float_input(\"Enter temperature in Celsius: \")\n",
    "            print(f\"{temp_c}°C = {cel_to_far(temp_c):.2f}°F\")\n",
    "        elif choice == \"F\":\n",
    "            temp_f = get_float_input(\"Enter temperature in Fahrenheit: \")\n",
    "            print(f\"{temp_f}°F = {far_to_cel(temp_f):.2f}°C\")\n",
    "        elif choice == \"Q\":\n",
    "            print(\"Exiting program.\")\n",
    "            break\n",
    "        else:\n",
    "            print(\"Invalid choice. Please type C, F, or Q.\")\n",
    "\n",
    "if __name__ == \"__main__\":\n",
    "    main()"
   ]
  },
  {
   "cell_type": "code",
   "execution_count": null,
   "id": "5d513fcd-1bb0-45c7-94f4-522ef0913d87",
   "metadata": {},
   "outputs": [],
   "source": []
  }
 ],
 "metadata": {
  "kernelspec": {
   "display_name": "Python [conda env:base] *",
   "language": "python",
   "name": "conda-base-py"
  },
  "language_info": {
   "codemirror_mode": {
    "name": "ipython",
    "version": 3
   },
   "file_extension": ".py",
   "mimetype": "text/x-python",
   "name": "python",
   "nbconvert_exporter": "python",
   "pygments_lexer": "ipython3",
   "version": "3.13.5"
  }
 },
 "nbformat": 4,
 "nbformat_minor": 5
}
